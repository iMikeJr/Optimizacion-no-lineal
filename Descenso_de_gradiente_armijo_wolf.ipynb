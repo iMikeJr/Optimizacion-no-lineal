{
  "nbformat": 4,
  "nbformat_minor": 0,
  "metadata": {
    "colab": {
      "provenance": [],
      "authorship_tag": "ABX9TyMv/iI+GdUMD8qIO54Anocz",
      "include_colab_link": true
    },
    "kernelspec": {
      "name": "python3",
      "display_name": "Python 3"
    },
    "language_info": {
      "name": "python"
    }
  },
  "cells": [
    {
      "cell_type": "markdown",
      "metadata": {
        "id": "view-in-github",
        "colab_type": "text"
      },
      "source": [
        "<a href=\"https://colab.research.google.com/github/iMikeJr/Optimizacion-no-lineal/blob/main/Descenso_de_gradiente_armijo_wolf.ipynb\" target=\"_parent\"><img src=\"https://colab.research.google.com/assets/colab-badge.svg\" alt=\"Open In Colab\"/></a>"
      ]
    },
    {
      "cell_type": "code",
      "execution_count": 1,
      "metadata": {
        "colab": {
          "base_uri": "https://localhost:8080/"
        },
        "id": "m6h4mEByciEU",
        "outputId": "ff22d6ab-cd18-4078-cf00-aba1606e1548"
      },
      "outputs": [
        {
          "output_type": "stream",
          "name": "stdout",
          "text": [
            "Mínimo encontrado en: [0. 0.]\n"
          ]
        }
      ],
      "source": [
        "import numpy as np\n",
        "import sympy as sp\n",
        "\n",
        "x, y = sp.symbols('x y')\n",
        "f = x**2 + y**2\n",
        "\n",
        "f_grad = [sp.diff(f, var) for var in (x, y)]\n",
        "\n",
        "def eval_grad(punto):\n",
        "    return np.array([grad.subs({x: punto[0], y: punto[1]}).evalf() for grad in f_grad], dtype=float)\n",
        "\n",
        "def descenso_armijo(punto_inicial, alpha=1, sigma=0.5, beta=0.5, tolerancia=1e-5, max_iter=1000):\n",
        "    punto = np.array(punto_inicial, dtype=float)\n",
        "    for _ in range(max_iter):\n",
        "        grad = eval_grad(punto)\n",
        "        if np.linalg.norm(grad) < tolerancia:\n",
        "            break\n",
        "\n",
        "        while True:\n",
        "            nuevo_pto = punto - alpha * grad\n",
        "            if f.subs({x: nuevo_pto[0], y: nuevo_pto[1]}) <= f.subs({x: punto[0], y: punto[1]}) + sigma * alpha * np.dot(grad, -grad):\n",
        "                break\n",
        "            alpha *= beta\n",
        "        punto = nuevo_pto\n",
        "\n",
        "    return punto\n",
        "\n",
        "punto_inicial = [1, 1]\n",
        "\n",
        "minimo = descenso_armijo(punto_inicial)\n",
        "print(\"Mínimo encontrado en:\", minimo)\n"
      ]
    }
  ]
}